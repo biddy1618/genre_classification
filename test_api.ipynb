{
 "cells": [
  {
   "cell_type": "code",
   "execution_count": 1,
   "metadata": {},
   "outputs": [],
   "source": [
    "import requests\n",
    "import json"
   ]
  },
  {
   "cell_type": "code",
   "execution_count": 15,
   "metadata": {},
   "outputs": [],
   "source": [
    "# Fails since data contains NULL values\n",
    "# with open('./model/input_example.json') as fp:\n",
    "#     data = json.load(fp)\n",
    "\n",
    "with open('./starter/data_sample.json') as fp:\n",
    "    data = json.load(fp)"
   ]
  },
  {
   "cell_type": "code",
   "execution_count": 18,
   "metadata": {},
   "outputs": [
    {
     "name": "stdout",
     "output_type": "stream",
     "text": [
      "['RnB', 'Rap', 'RnB', 'Underground Rap', 'hardstyle', 'trap', 'RnB', 'Hiphop', 'RnB', 'Hiphop']\n"
     ]
    }
   ],
   "source": [
    "results = requests.post('http://localhost:5000/invocations', json=data)\n",
    "\n",
    "print(results.json())"
   ]
  },
  {
   "cell_type": "code",
   "execution_count": null,
   "metadata": {},
   "outputs": [],
   "source": []
  }
 ],
 "metadata": {
  "kernelspec": {
   "display_name": "Python 3.8.13 ('full_pipeline_2nd_module')",
   "language": "python",
   "name": "python3"
  },
  "language_info": {
   "codemirror_mode": {
    "name": "ipython",
    "version": 3
   },
   "file_extension": ".py",
   "mimetype": "text/x-python",
   "name": "python",
   "nbconvert_exporter": "python",
   "pygments_lexer": "ipython3",
   "version": "3.8.13"
  },
  "orig_nbformat": 4,
  "vscode": {
   "interpreter": {
    "hash": "7a1b5c7fc7ca0dd74998b69cd4b38d5c0b6e58d24bef856c04155c345805b917"
   }
  }
 },
 "nbformat": 4,
 "nbformat_minor": 2
}
